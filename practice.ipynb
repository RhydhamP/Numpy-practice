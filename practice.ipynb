{
 "cells": [
  {
   "cell_type": "code",
   "execution_count": 1,
   "id": "588bf961-15fc-450b-84b1-eda1a337a923",
   "metadata": {},
   "outputs": [],
   "source": [
    "import numpy as np"
   ]
  },
  {
   "cell_type": "code",
   "execution_count": 2,
   "id": "72dbe994-a4c3-4e48-bbc9-053b9b789401",
   "metadata": {},
   "outputs": [],
   "source": [
    "mya = np.array([[1,2,3,84,5]], np.int8)"
   ]
  },
  {
   "cell_type": "code",
   "execution_count": 3,
   "id": "eb64890a-8e24-41fd-a5d7-1a16b723ffd4",
   "metadata": {},
   "outputs": [
    {
     "data": {
      "text/plain": [
       "2"
      ]
     },
     "execution_count": 3,
     "metadata": {},
     "output_type": "execute_result"
    }
   ],
   "source": [
    "mya[0,1]"
   ]
  },
  {
   "cell_type": "code",
   "execution_count": 4,
   "id": "401a80bd-9543-4908-8fff-fa1edec18a80",
   "metadata": {},
   "outputs": [
    {
     "data": {
      "text/plain": [
       "(1, 5)"
      ]
     },
     "execution_count": 4,
     "metadata": {},
     "output_type": "execute_result"
    }
   ],
   "source": [
    "mya.shape"
   ]
  },
  {
   "cell_type": "code",
   "execution_count": 5,
   "id": "66e41b3f-9470-4257-942b-9e6763e24e33",
   "metadata": {},
   "outputs": [
    {
     "data": {
      "text/plain": [
       "dtype('int8')"
      ]
     },
     "execution_count": 5,
     "metadata": {},
     "output_type": "execute_result"
    }
   ],
   "source": [
    "mya.dtype"
   ]
  },
  {
   "cell_type": "code",
   "execution_count": 6,
   "id": "583f8f52-53f3-484c-8014-4b6cfa7ccf31",
   "metadata": {},
   "outputs": [],
   "source": [
    "mya[0,1] = 33"
   ]
  },
  {
   "cell_type": "code",
   "execution_count": 7,
   "id": "3fb6d1a7-6ace-41aa-bdd4-cd23080f0ad9",
   "metadata": {},
   "outputs": [
    {
     "data": {
      "text/plain": [
       "array([[ 1, 33,  3, 84,  5]], dtype=int8)"
      ]
     },
     "execution_count": 7,
     "metadata": {},
     "output_type": "execute_result"
    }
   ],
   "source": [
    "mya"
   ]
  },
  {
   "cell_type": "code",
   "execution_count": 8,
   "id": "432fd82f-15a1-4bb6-b8c6-2c619fcc580e",
   "metadata": {},
   "outputs": [],
   "source": [
    "listarray =np.array([[1,2,3], [4,5,6], [7,8,9]])"
   ]
  },
  {
   "cell_type": "code",
   "execution_count": 9,
   "id": "b5783f30-afa4-4ad1-82a9-97fd0111bcb6",
   "metadata": {},
   "outputs": [
    {
     "data": {
      "text/plain": [
       "array([[1, 2, 3],\n",
       "       [4, 5, 6],\n",
       "       [7, 8, 9]])"
      ]
     },
     "execution_count": 9,
     "metadata": {},
     "output_type": "execute_result"
    }
   ],
   "source": [
    "listarray"
   ]
  },
  {
   "cell_type": "code",
   "execution_count": 10,
   "id": "42d2c5d1-46f7-4774-b150-718a52392fa1",
   "metadata": {},
   "outputs": [
    {
     "data": {
      "text/plain": [
       "dtype('int32')"
      ]
     },
     "execution_count": 10,
     "metadata": {},
     "output_type": "execute_result"
    }
   ],
   "source": [
    "listarray.dtype\n"
   ]
  },
  {
   "cell_type": "code",
   "execution_count": 11,
   "id": "7708157b-c04c-4f7d-a892-f99a3282c986",
   "metadata": {},
   "outputs": [
    {
     "data": {
      "text/plain": [
       "(3, 3)"
      ]
     },
     "execution_count": 11,
     "metadata": {},
     "output_type": "execute_result"
    }
   ],
   "source": [
    "listarray.shape\n"
   ]
  },
  {
   "cell_type": "code",
   "execution_count": 12,
   "id": "382db4bc-caad-4e4d-9c02-99ed1be6c44d",
   "metadata": {},
   "outputs": [
    {
     "data": {
      "text/plain": [
       "9"
      ]
     },
     "execution_count": 12,
     "metadata": {},
     "output_type": "execute_result"
    }
   ],
   "source": [
    "listarray.size"
   ]
  },
  {
   "cell_type": "code",
   "execution_count": 13,
   "id": "0f35baab-cc41-45f4-84c2-cf0f64122cf1",
   "metadata": {},
   "outputs": [
    {
     "data": {
      "text/plain": [
       "array({33, 23}, dtype=object)"
      ]
     },
     "execution_count": 13,
     "metadata": {},
     "output_type": "execute_result"
    }
   ],
   "source": [
    "np.array({23,33,23})"
   ]
  },
  {
   "cell_type": "code",
   "execution_count": 14,
   "id": "8f7238c2-952b-41ab-9384-bc4be36b11d3",
   "metadata": {},
   "outputs": [],
   "source": [
    "zeros = np.zeros((2,3))"
   ]
  },
  {
   "cell_type": "code",
   "execution_count": 15,
   "id": "7643658b-fa44-4724-8198-16d15620d758",
   "metadata": {},
   "outputs": [
    {
     "data": {
      "text/plain": [
       "array([[0., 0., 0.],\n",
       "       [0., 0., 0.]])"
      ]
     },
     "execution_count": 15,
     "metadata": {},
     "output_type": "execute_result"
    }
   ],
   "source": [
    "zeros"
   ]
  },
  {
   "cell_type": "code",
   "execution_count": 16,
   "id": "720f75e3-defb-4075-967a-9ce5df9ba04a",
   "metadata": {},
   "outputs": [
    {
     "data": {
      "text/plain": [
       "6"
      ]
     },
     "execution_count": 16,
     "metadata": {},
     "output_type": "execute_result"
    }
   ],
   "source": [
    "zeros.size"
   ]
  },
  {
   "cell_type": "code",
   "execution_count": 17,
   "id": "a15fab84-ae74-45a4-9f44-57b157582004",
   "metadata": {},
   "outputs": [],
   "source": [
    "rng = np.arange(15)"
   ]
  },
  {
   "cell_type": "code",
   "execution_count": 18,
   "id": "c501332a-9a74-436c-bcb1-1f901639e80d",
   "metadata": {},
   "outputs": [
    {
     "data": {
      "text/plain": [
       "array([ 0,  1,  2,  3,  4,  5,  6,  7,  8,  9, 10, 11, 12, 13, 14])"
      ]
     },
     "execution_count": 18,
     "metadata": {},
     "output_type": "execute_result"
    }
   ],
   "source": [
    "rng"
   ]
  },
  {
   "cell_type": "code",
   "execution_count": 19,
   "id": "33bc03a5-894b-4960-a168-28f57e22f255",
   "metadata": {},
   "outputs": [],
   "source": [
    "lsp = np.linspace(1,5,5)"
   ]
  },
  {
   "cell_type": "code",
   "execution_count": 20,
   "id": "42e84563-6014-4a74-a9f5-5f93dc2b7f33",
   "metadata": {},
   "outputs": [
    {
     "data": {
      "text/plain": [
       "array([1., 2., 3., 4., 5.])"
      ]
     },
     "execution_count": 20,
     "metadata": {},
     "output_type": "execute_result"
    }
   ],
   "source": [
    "lsp"
   ]
  },
  {
   "cell_type": "code",
   "execution_count": 21,
   "id": "cac1618c-d2e6-44ab-95a0-185bf7293384",
   "metadata": {},
   "outputs": [],
   "source": [
    "emp = np.empty((3,4))"
   ]
  },
  {
   "cell_type": "code",
   "execution_count": 22,
   "id": "4c2ee9cc-9f47-42db-9db6-10b80ace9b83",
   "metadata": {},
   "outputs": [
    {
     "data": {
      "text/plain": [
       "array([[1.25793676e-311, 2.81617418e-322, 0.00000000e+000,\n",
       "        0.00000000e+000],\n",
       "       [1.11260619e-306, 2.46567317e+179, 5.20268094e-090,\n",
       "        5.64349391e-038],\n",
       "       [1.52394232e-052, 4.00868547e+174, 6.48224659e+170,\n",
       "        4.93432906e+257]])"
      ]
     },
     "execution_count": 22,
     "metadata": {},
     "output_type": "execute_result"
    }
   ],
   "source": [
    "emp"
   ]
  },
  {
   "cell_type": "code",
   "execution_count": 23,
   "id": "cf67d0da-637a-437e-804a-c27feabab18b",
   "metadata": {},
   "outputs": [],
   "source": [
    "emp_like = np.empty_like(lsp)"
   ]
  },
  {
   "cell_type": "code",
   "execution_count": 24,
   "id": "b986b4b9-ff67-4adc-a9b0-3e1261054244",
   "metadata": {},
   "outputs": [
    {
     "data": {
      "text/plain": [
       "array([1., 2., 3., 4., 5.])"
      ]
     },
     "execution_count": 24,
     "metadata": {},
     "output_type": "execute_result"
    }
   ],
   "source": [
    "emp_like"
   ]
  },
  {
   "cell_type": "code",
   "execution_count": 25,
   "id": "575affd6-5007-4eac-aee2-30eb7d30f887",
   "metadata": {},
   "outputs": [],
   "source": [
    "ide = np.identity(33)"
   ]
  },
  {
   "cell_type": "code",
   "execution_count": 26,
   "id": "35b4f1b7-5bf9-4455-938e-a2fefb0497dc",
   "metadata": {},
   "outputs": [
    {
     "data": {
      "text/plain": [
       "array([[1., 0., 0., ..., 0., 0., 0.],\n",
       "       [0., 1., 0., ..., 0., 0., 0.],\n",
       "       [0., 0., 1., ..., 0., 0., 0.],\n",
       "       ...,\n",
       "       [0., 0., 0., ..., 1., 0., 0.],\n",
       "       [0., 0., 0., ..., 0., 1., 0.],\n",
       "       [0., 0., 0., ..., 0., 0., 1.]])"
      ]
     },
     "execution_count": 26,
     "metadata": {},
     "output_type": "execute_result"
    }
   ],
   "source": [
    "ide"
   ]
  },
  {
   "cell_type": "code",
   "execution_count": 27,
   "id": "18bd9e2e-bd1b-4eca-b124-84503207faac",
   "metadata": {},
   "outputs": [
    {
     "data": {
      "text/plain": [
       "(33, 33)"
      ]
     },
     "execution_count": 27,
     "metadata": {},
     "output_type": "execute_result"
    }
   ],
   "source": [
    "ide.shape"
   ]
  },
  {
   "cell_type": "code",
   "execution_count": 28,
   "id": "27ddc18f-4161-4de0-9e0b-7cc4d23e39e6",
   "metadata": {},
   "outputs": [],
   "source": [
    "ar = np.arange(99)"
   ]
  },
  {
   "cell_type": "code",
   "execution_count": 29,
   "id": "94eba8f9-17c2-4977-b7db-9e260371867b",
   "metadata": {},
   "outputs": [
    {
     "data": {
      "text/plain": [
       "array([ 0,  1,  2,  3,  4,  5,  6,  7,  8,  9, 10, 11, 12, 13, 14, 15, 16,\n",
       "       17, 18, 19, 20, 21, 22, 23, 24, 25, 26, 27, 28, 29, 30, 31, 32, 33,\n",
       "       34, 35, 36, 37, 38, 39, 40, 41, 42, 43, 44, 45, 46, 47, 48, 49, 50,\n",
       "       51, 52, 53, 54, 55, 56, 57, 58, 59, 60, 61, 62, 63, 64, 65, 66, 67,\n",
       "       68, 69, 70, 71, 72, 73, 74, 75, 76, 77, 78, 79, 80, 81, 82, 83, 84,\n",
       "       85, 86, 87, 88, 89, 90, 91, 92, 93, 94, 95, 96, 97, 98])"
      ]
     },
     "execution_count": 29,
     "metadata": {},
     "output_type": "execute_result"
    }
   ],
   "source": [
    "ar"
   ]
  },
  {
   "cell_type": "code",
   "execution_count": 34,
   "id": "ecb67a66-ea7c-4ed7-b00d-d588de7061f7",
   "metadata": {},
   "outputs": [],
   "source": [
    "ar = ar.reshape(3,33)"
   ]
  },
  {
   "cell_type": "code",
   "execution_count": 35,
   "id": "6737de1c-d402-4c7c-89e1-d0acc14af813",
   "metadata": {},
   "outputs": [
    {
     "data": {
      "text/plain": [
       "array([[ 0,  1,  2,  3,  4,  5,  6,  7,  8,  9, 10, 11, 12, 13, 14, 15,\n",
       "        16, 17, 18, 19, 20, 21, 22, 23, 24, 25, 26, 27, 28, 29, 30, 31,\n",
       "        32],\n",
       "       [33, 34, 35, 36, 37, 38, 39, 40, 41, 42, 43, 44, 45, 46, 47, 48,\n",
       "        49, 50, 51, 52, 53, 54, 55, 56, 57, 58, 59, 60, 61, 62, 63, 64,\n",
       "        65],\n",
       "       [66, 67, 68, 69, 70, 71, 72, 73, 74, 75, 76, 77, 78, 79, 80, 81,\n",
       "        82, 83, 84, 85, 86, 87, 88, 89, 90, 91, 92, 93, 94, 95, 96, 97,\n",
       "        98]])"
      ]
     },
     "execution_count": 35,
     "metadata": {},
     "output_type": "execute_result"
    }
   ],
   "source": [
    "ar"
   ]
  },
  {
   "cell_type": "code",
   "execution_count": null,
   "id": "aad47209-bde3-44d2-9727-5a6384f2b773",
   "metadata": {},
   "outputs": [],
   "source": []
  }
 ],
 "metadata": {
  "kernelspec": {
   "display_name": "Python 3 (ipykernel)",
   "language": "python",
   "name": "python3"
  },
  "language_info": {
   "codemirror_mode": {
    "name": "ipython",
    "version": 3
   },
   "file_extension": ".py",
   "mimetype": "text/x-python",
   "name": "python",
   "nbconvert_exporter": "python",
   "pygments_lexer": "ipython3",
   "version": "3.12.1"
  }
 },
 "nbformat": 4,
 "nbformat_minor": 5
}
